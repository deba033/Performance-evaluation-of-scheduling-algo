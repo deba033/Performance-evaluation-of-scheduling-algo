{
 "cells": [
  {
   "cell_type": "markdown",
   "id": "9c5cca87",
   "metadata": {},
   "source": [
    "# <font color=green>I. <U><i><b><strong>CODE PROVIDED</strong></b></i></U></font>"
   ]
  },
  {
   "cell_type": "markdown",
   "id": "5311cab0",
   "metadata": {},
   "source": [
    "## Defining number of jobs and machines"
   ]
  },
  {
   "cell_type": "code",
   "execution_count": 1,
   "id": "5abe2371-76a5-49f2-b998-f297a16370a1",
   "metadata": {},
   "outputs": [],
   "source": [
    "N_JOBS = 7\n",
    "N_MACHINES = 4"
   ]
  },
  {
   "cell_type": "markdown",
   "id": "95eaa1f6",
   "metadata": {},
   "source": [
    "## function that generates random processing time"
   ]
  },
  {
   "cell_type": "code",
   "execution_count": 2,
   "id": "047ac0b5-0431-4ea3-a3f2-9ed54713bea0",
   "metadata": {},
   "outputs": [],
   "source": [
    "import random\n",
    "\n",
    "def generateData(seed=0):\n",
    "    PROC = [ [ 0 for m in range(N_MACHINES) ] for j in range(N_JOBS) ]\n",
    "    random.seed(seed)\n",
    "    for j in range(N_JOBS):\n",
    "        for m in range(N_MACHINES):\n",
    "            PROC[j][m] = random.randint(1,9)\n",
    "    return PROC"
   ]
  },
  {
   "cell_type": "markdown",
   "id": "a6401d71",
   "metadata": {},
   "source": [
    "## <font color=orange><U><i><b><strong>Runtime calculation function (implemented by me)</strong></b></i></U></font>"
   ]
  },
  {
   "cell_type": "code",
   "execution_count": 3,
   "id": "6c992665",
   "metadata": {},
   "outputs": [],
   "source": [
    "def calculate_runtime(start_time):\n",
    "    end_time = time.time()\n",
    "    total_runtime = end_time - start_time\n",
    "    return total_runtime\n",
    "import time\n",
    "start_time = time.time()"
   ]
  },
  {
   "cell_type": "markdown",
   "id": "a383a757",
   "metadata": {},
   "source": [
    "## PROC generation"
   ]
  },
  {
   "cell_type": "code",
   "execution_count": 6,
   "id": "a0f62f26-fa55-4dc7-83f7-1c0c6c2b69cd",
   "metadata": {},
   "outputs": [],
   "source": [
    "PROC = generateData(2821)"
   ]
  },
  {
   "cell_type": "markdown",
   "id": "e9e01a2d",
   "metadata": {},
   "source": [
    "## Generating processing time as per seed 2821 from student ID 22242821"
   ]
  },
  {
   "cell_type": "code",
   "execution_count": 7,
   "id": "3f974614-01de-4091-bf11-0d839c58b7b9",
   "metadata": {},
   "outputs": [
    {
     "data": {
      "text/plain": [
       "[[7, 3, 8, 8],\n",
       " [2, 4, 8, 3],\n",
       " [9, 7, 2, 9],\n",
       " [5, 2, 3, 4],\n",
       " [7, 7, 3, 3],\n",
       " [9, 3, 4, 3],\n",
       " [6, 9, 4, 6]]"
      ]
     },
     "execution_count": 7,
     "metadata": {},
     "output_type": "execute_result"
    }
   ],
   "source": [
    "PROC"
   ]
  },
  {
   "cell_type": "markdown",
   "id": "b70c131d",
   "metadata": {},
   "source": [
    "## function to get integer value of PuLP variable"
   ]
  },
  {
   "cell_type": "code",
   "execution_count": 8,
   "id": "eca9cf14-548d-4bec-864b-e10fc292e193",
   "metadata": {},
   "outputs": [],
   "source": [
    "import pulp"
   ]
  },
  {
   "cell_type": "code",
   "execution_count": 9,
   "id": "5dfa4b71-cecb-4aeb-a81e-0aa3447b7aee",
   "metadata": {},
   "outputs": [],
   "source": [
    "def val(x):\n",
    "    return int(pulp.value(x))"
   ]
  },
  {
   "cell_type": "markdown",
   "id": "154bac11",
   "metadata": {},
   "source": [
    "## linear programming problem to reduce job completion time"
   ]
  },
  {
   "cell_type": "code",
   "execution_count": 10,
   "id": "fa8eba92-caba-4edc-bcd1-d744401fed9c",
   "metadata": {},
   "outputs": [],
   "source": [
    "prob = pulp.LpProblem(\"JobScheduling\",pulp.LpMinimize)"
   ]
  },
  {
   "cell_type": "markdown",
   "id": "742b2521-7b22-403e-a6e2-c7b242735fb5",
   "metadata": {},
   "source": [
    "`J[j]` defines the sequencing of jobs 'j' and is just a permutation of the job number:"
   ]
  },
  {
   "cell_type": "markdown",
   "id": "77fa7593",
   "metadata": {},
   "source": [
    "## decision variables for job scheduling"
   ]
  },
  {
   "cell_type": "code",
   "execution_count": 11,
   "id": "d0b28ee2-4ceb-4b21-969f-bb1ed6669445",
   "metadata": {},
   "outputs": [],
   "source": [
    "JJ = pulp.LpVariable.dicts(\"J\", (range(N_JOBS), range(N_JOBS)),\n",
    "                           lowBound=0, upBound=1, cat='Integer')"
   ]
  },
  {
   "cell_type": "markdown",
   "id": "9523632a",
   "metadata": {},
   "source": [
    "## function to find job corresponding to a given index"
   ]
  },
  {
   "cell_type": "code",
   "execution_count": 12,
   "id": "f0dddb75-19fa-4a18-866e-2df4d99df3b8",
   "metadata": {},
   "outputs": [],
   "source": [
    "def job(n):\n",
    "    for j in range(N_JOBS):\n",
    "        if val(JJ[n][j])==1:\n",
    "            return j"
   ]
  },
  {
   "cell_type": "markdown",
   "id": "5bc2bdbe",
   "metadata": {},
   "source": [
    "## function to generate job sequence based on LP solution"
   ]
  },
  {
   "cell_type": "code",
   "execution_count": 13,
   "id": "224524bd-b926-4966-88b0-7c93e21e6f1c",
   "metadata": {},
   "outputs": [],
   "source": [
    "def jobSequence():\n",
    "    acc = []\n",
    "    for j in range(N_JOBS):\n",
    "        for jj in range(N_JOBS):\n",
    "            if pulp.value(JJ[j][jj])==1:\n",
    "                acc.append(jj)\n",
    "    return acc"
   ]
  },
  {
   "cell_type": "markdown",
   "id": "3dbcf26c",
   "metadata": {},
   "source": [
    "## function for calculating processing time of a job on a machine"
   ]
  },
  {
   "cell_type": "code",
   "execution_count": 14,
   "id": "d67b6358-7795-4386-9300-e824bfeb10e0",
   "metadata": {},
   "outputs": [],
   "source": [
    "def proc(job, machine):\n",
    "    global PROC\n",
    "    return pulp.lpSum( [ PROC[j][machine] * JJ[j][job] for j in range(N_JOBS) ] ) "
   ]
  },
  {
   "cell_type": "markdown",
   "id": "7bf1953c-8aca-4a6f-b255-5f159695d5c1",
   "metadata": {},
   "source": [
    "`WAIT[j][m]` describes the wait time of job `j` before machine `m`"
   ]
  },
  {
   "cell_type": "markdown",
   "id": "07e85573",
   "metadata": {},
   "source": [
    "## descision variable for wait, idle, start and stop times"
   ]
  },
  {
   "cell_type": "code",
   "execution_count": 15,
   "id": "1b03f97e-0903-4438-b126-eb75b0888445",
   "metadata": {},
   "outputs": [],
   "source": [
    "Wait = pulp.LpVariable.dicts(\"WAIT\", (range(N_JOBS), range(N_MACHINES)),\n",
    "                          lowBound=0, cat='Integer')"
   ]
  },
  {
   "cell_type": "markdown",
   "id": "8b449eba-4c92-44ed-b4bf-1444a890c9ad",
   "metadata": {},
   "source": [
    "`IDLE[j][m]` describes the idle time of machine `m` before processing job `j` "
   ]
  },
  {
   "cell_type": "code",
   "execution_count": 16,
   "id": "e66c567c-ab0f-4430-b8ca-4e8270c35c86",
   "metadata": {},
   "outputs": [],
   "source": [
    "Idle = pulp.LpVariable.dicts(\"IDLE\", (range(N_JOBS), range(N_MACHINES)),\n",
    "                             lowBound=0, cat='Integer')"
   ]
  },
  {
   "cell_type": "markdown",
   "id": "a0ae21e2-1892-4c4f-919a-c74b2fecbffa",
   "metadata": {},
   "source": [
    "`START[j][m]` describes the start time of machine `m` processing job `j`"
   ]
  },
  {
   "cell_type": "code",
   "execution_count": 17,
   "id": "dbafc352-605d-4ba9-9ef5-183ebc90cb95",
   "metadata": {},
   "outputs": [],
   "source": [
    "Start = pulp.LpVariable.dicts(\"START\", (range(N_JOBS), range(N_MACHINES)),\n",
    "                          lowBound=0, cat='Integer')"
   ]
  },
  {
   "cell_type": "markdown",
   "id": "76efcf5f-d973-4c7e-a6f2-051cfa8ffdbf",
   "metadata": {},
   "source": [
    "`STOP[j][m]` describes the stop time of machine `m` after processing job `j`"
   ]
  },
  {
   "cell_type": "code",
   "execution_count": 18,
   "id": "547449f5-4332-446b-8cd2-65baa2385e21",
   "metadata": {},
   "outputs": [],
   "source": [
    "Stop = pulp.LpVariable.dicts(\"STOP\", (range(N_JOBS), range(N_MACHINES)),\n",
    "                          lowBound=0, cat='Integer')"
   ]
  },
  {
   "cell_type": "markdown",
   "id": "7235e179",
   "metadata": {},
   "source": [
    "## Adding objective function to minimize completion time"
   ]
  },
  {
   "cell_type": "code",
   "execution_count": 19,
   "id": "7d2fb60e-873d-49f4-8987-7657e02dfad5",
   "metadata": {},
   "outputs": [],
   "source": [
    "prob += Stop[N_JOBS-1][N_MACHINES-1]"
   ]
  },
  {
   "cell_type": "markdown",
   "id": "b332f04a",
   "metadata": {},
   "source": [
    "## constraints to ensure each job is scheduled exactly once"
   ]
  },
  {
   "cell_type": "code",
   "execution_count": 20,
   "id": "a4c1d779-0d8e-4b81-b6b1-a8076ea549f9",
   "metadata": {},
   "outputs": [],
   "source": [
    "for j in range(N_JOBS):\n",
    "    prob += pulp.lpSum( [ JJ[j][jj] for jj in range(N_JOBS) ] ) == 1\n",
    "    prob += pulp.lpSum( [ JJ[jj][j] for jj in range(N_JOBS) ] ) == 1"
   ]
  },
  {
   "cell_type": "markdown",
   "id": "0c7e2047",
   "metadata": {},
   "source": [
    "## constraints to ensure jobs do not overlap on machines and respect processing times"
   ]
  },
  {
   "cell_type": "code",
   "execution_count": 21,
   "id": "59533752-954e-4b73-a125-3e3f74682a4f",
   "metadata": {},
   "outputs": [],
   "source": [
    "for m in range(N_MACHINES):\n",
    "    for j in range(N_JOBS):\n",
    "        prob += pulp.lpSum( [ Idle[ji][m] + proc(ji, m) for ji in range(j) ] ) + Idle[j][m] == Start[j][m]"
   ]
  },
  {
   "cell_type": "markdown",
   "id": "2d62bd70",
   "metadata": {},
   "source": [
    "## constraints to ensure jobs do not start until the previous job on the same machine is finished"
   ]
  },
  {
   "cell_type": "code",
   "execution_count": 22,
   "id": "74891c6c-454e-4b84-94e5-f813a4e44f60",
   "metadata": {},
   "outputs": [],
   "source": [
    "for m in range(N_MACHINES):\n",
    "    for j in range(N_JOBS):\n",
    "        prob += pulp.lpSum( [ Wait[j][mi] + proc(j, mi) for mi in range(m) ] ) + Wait[j][m] == Start[j][m]"
   ]
  },
  {
   "cell_type": "markdown",
   "id": "992d1143",
   "metadata": {},
   "source": [
    "## constraints to calculate stop times"
   ]
  },
  {
   "cell_type": "code",
   "execution_count": 23,
   "id": "92aea3f3-4ea0-4b4e-aa73-aec50f2a6f20",
   "metadata": {},
   "outputs": [],
   "source": [
    "for j in range(N_JOBS):\n",
    "    for m in range(N_MACHINES):\n",
    "        prob += Start[j][m] + proc(j,m) == Stop[j][m]"
   ]
  },
  {
   "cell_type": "markdown",
   "id": "331cbc97",
   "metadata": {},
   "source": [
    "## Solve LP problem using the selected solver"
   ]
  },
  {
   "cell_type": "code",
   "execution_count": 24,
   "id": "3ce6e5b5-3c1b-4031-bd16-a34187f4f3bb",
   "metadata": {},
   "outputs": [
    {
     "data": {
      "text/plain": [
       "1"
      ]
     },
     "execution_count": 24,
     "metadata": {},
     "output_type": "execute_result"
    }
   ],
   "source": [
    "solvers = pulp.listSolvers(onlyAvailable=True) \n",
    "solver = pulp.getSolver(solvers[0], msg=0)\n",
    "prob.solve(solver)"
   ]
  },
  {
   "cell_type": "markdown",
   "id": "7afea0a4",
   "metadata": {},
   "source": [
    "## function to format and print the resulting job schedule"
   ]
  },
  {
   "cell_type": "code",
   "execution_count": 25,
   "id": "17444570-aa9b-42e6-a853-98598486c120",
   "metadata": {},
   "outputs": [],
   "source": [
    "def schedule():\n",
    "    row = \"\"\n",
    "    row += '|---------|'\n",
    "    for m in range(N_MACHINES):\n",
    "        row += f\"------------|\" \\\n",
    "                f\"------------|\"\n",
    "    row += '\\n'\n",
    "    row += '|         |'\n",
    "    for m in range(N_MACHINES):\n",
    "        row += f\"            |\" \\\n",
    "                f\" Machine: {m:1d} |\"\n",
    "    row += '\\n'\n",
    "    for j in range(N_JOBS):\n",
    "        row += '|---------|'\n",
    "        for m in range(N_MACHINES):\n",
    "            row += f\"------------|\" \\\n",
    "                   f\"------------|\"\n",
    "        row += '\\n'\n",
    "        row += '|         |'\n",
    "        for m in range(N_MACHINES):\n",
    "            row += f\"       {' ':4s} | \" \\\n",
    "                   f\"Idle: {val(Idle[j][m]):4d} |\"\n",
    "        row += '\\n'\n",
    "        row += '|---------|'\n",
    "        for m in range(N_MACHINES):\n",
    "            row += f\"------------|\" \\\n",
    "                   f\"------------|\"\n",
    "        row += '\\n'\n",
    "        row += '|         |'\n",
    "        for m in range(N_MACHINES):\n",
    "            row += f\"       {' ':4s} | \" \\\n",
    "                   f\"Start:{val(Start[j][m]):4d} |\"  \n",
    "        row += '\\n' \n",
    "        row += f'| Job: {job(j):2d} |'\n",
    "        for m in range(N_MACHINES):\n",
    "            row += f\" Wait: {val(Wait[j][m]):4d} | \" \\\n",
    "                   f\"Proc: {val(proc(j,m)):4d} |\"\n",
    "        row += '\\n'\n",
    "        row += '|         |'\n",
    "        for m in range(N_MACHINES):\n",
    "            row += f\"       {' ':4s} | \" \\\n",
    "                   f\"Stop: {val(Stop[j][m]):4d} |\"  \n",
    "        row += '\\n' \n",
    "    row += '|---------|'\n",
    "    for m in range(N_MACHINES):\n",
    "        row += f\"------------|\" \\\n",
    "                f\"------------|\"\n",
    "    row += '\\n'\n",
    "    return row"
   ]
  },
  {
   "cell_type": "markdown",
   "id": "a7ef28b4-462b-4f42-9bc5-8b63942d93fc",
   "metadata": {},
   "source": [
    "The processing times per job and machine:"
   ]
  },
  {
   "cell_type": "markdown",
   "id": "d23fc924",
   "metadata": {},
   "source": [
    "## Print the generated processing times"
   ]
  },
  {
   "cell_type": "code",
   "execution_count": 26,
   "id": "d17cd20b-c03b-465d-b468-a3c8fe23427f",
   "metadata": {},
   "outputs": [
    {
     "data": {
      "text/plain": [
       "[[7, 3, 8, 8],\n",
       " [2, 4, 8, 3],\n",
       " [9, 7, 2, 9],\n",
       " [5, 2, 3, 4],\n",
       " [7, 7, 3, 3],\n",
       " [9, 3, 4, 3],\n",
       " [6, 9, 4, 6]]"
      ]
     },
     "execution_count": 26,
     "metadata": {},
     "output_type": "execute_result"
    }
   ],
   "source": [
    "PROC"
   ]
  },
  {
   "cell_type": "markdown",
   "id": "7629b33d-97c6-4d2a-a31f-65e45520a1e2",
   "metadata": {},
   "source": [
    "The optimal job schedule:"
   ]
  },
  {
   "cell_type": "markdown",
   "id": "3f94ecfe",
   "metadata": {},
   "source": [
    "## Print the generated job sequence"
   ]
  },
  {
   "cell_type": "code",
   "execution_count": 27,
   "id": "c1ac5d36-9498-47e9-9599-ba7607a04416",
   "metadata": {},
   "outputs": [
    {
     "name": "stdout",
     "output_type": "stream",
     "text": [
      "[2, 0, 1, 6, 4, 5, 3]\n"
     ]
    }
   ],
   "source": [
    "print(jobSequence())"
   ]
  },
  {
   "cell_type": "markdown",
   "id": "51411408-e806-4ce9-a7e7-746267e0203b",
   "metadata": {},
   "source": [
    "The processing time of the optimal job schedule:"
   ]
  },
  {
   "cell_type": "markdown",
   "id": "08b795f8",
   "metadata": {},
   "source": [
    "## Print the value of the objective function (completion time)"
   ]
  },
  {
   "cell_type": "code",
   "execution_count": 28,
   "id": "3dbbf2a3-34cb-40d2-b88b-c6f715f57cbf",
   "metadata": {},
   "outputs": [
    {
     "data": {
      "text/plain": [
       "54"
      ]
     },
     "execution_count": 28,
     "metadata": {},
     "output_type": "execute_result"
    }
   ],
   "source": [
    "int(pulp.value(prob.objective))"
   ]
  },
  {
   "cell_type": "code",
   "execution_count": 29,
   "id": "bef5c75f",
   "metadata": {},
   "outputs": [
    {
     "name": "stdout",
     "output_type": "stream",
     "text": [
      "LP Makespan: 54\n"
     ]
    }
   ],
   "source": [
    "makespan=int(pulp.value(prob.objective))\n",
    "print(\"LP Makespan:\",makespan)"
   ]
  },
  {
   "cell_type": "markdown",
   "id": "0f6a1846-c2e1-4f5b-b26e-89956a51d2f2",
   "metadata": {},
   "source": [
    "The optimal job schedule in detail:"
   ]
  },
  {
   "cell_type": "markdown",
   "id": "eadd01cd",
   "metadata": {},
   "source": [
    "## Print the formatted job schedule"
   ]
  },
  {
   "cell_type": "code",
   "execution_count": 30,
   "id": "13805846-38f0-4006-a81d-4494b9e4089e",
   "metadata": {
    "scrolled": false
   },
   "outputs": [
    {
     "name": "stdout",
     "output_type": "stream",
     "text": [
      "|---------|------------|------------|------------|------------|------------|------------|------------|------------|\n",
      "|         |            | Machine: 0 |            | Machine: 1 |            | Machine: 2 |            | Machine: 3 |\n",
      "|---------|------------|------------|------------|------------|------------|------------|------------|------------|\n",
      "|         |            | Idle:    0 |            | Idle:    6 |            | Idle:   10 |            | Idle:   18 |\n",
      "|---------|------------|------------|------------|------------|------------|------------|------------|------------|\n",
      "|         |            | Start:   0 |            | Start:   6 |            | Start:  10 |            | Start:  18 |\n",
      "| Job:  2 | Wait:    0 | Proc:    2 | Wait:    4 | Proc:    4 | Wait:    0 | Proc:    8 | Wait:    0 | Proc:    3 |\n",
      "|         |            | Stop:    2 |            | Stop:   10 |            | Stop:   18 |            | Stop:   21 |\n",
      "|---------|------------|------------|------------|------------|------------|------------|------------|------------|\n",
      "|         |            | Idle:    0 |            | Idle:    1 |            | Idle:    1 |            | Idle:    0 |\n",
      "|---------|------------|------------|------------|------------|------------|------------|------------|------------|\n",
      "|         |            | Start:   2 |            | Start:  11 |            | Start:  19 |            | Start:  21 |\n",
      "| Job:  0 | Wait:    2 | Proc:    9 | Wait:    0 | Proc:    7 | Wait:    1 | Proc:    2 | Wait:    0 | Proc:    9 |\n",
      "|         |            | Stop:   11 |            | Stop:   18 |            | Stop:   21 |            | Stop:   30 |\n",
      "|---------|------------|------------|------------|------------|------------|------------|------------|------------|\n",
      "|         |            | Idle:    0 |            | Idle:    0 |            | Idle:    0 |            | Idle:    0 |\n",
      "|---------|------------|------------|------------|------------|------------|------------|------------|------------|\n",
      "|         |            | Start:  11 |            | Start:  18 |            | Start:  21 |            | Start:  30 |\n",
      "| Job:  1 | Wait:   11 | Proc:    7 | Wait:    0 | Proc:    3 | Wait:    0 | Proc:    8 | Wait:    1 | Proc:    8 |\n",
      "|         |            | Stop:   18 |            | Stop:   21 |            | Stop:   29 |            | Stop:   38 |\n",
      "|---------|------------|------------|------------|------------|------------|------------|------------|------------|\n",
      "|         |            | Idle:    0 |            | Idle:    3 |            | Idle:    4 |            | Idle:    0 |\n",
      "|---------|------------|------------|------------|------------|------------|------------|------------|------------|\n",
      "|         |            | Start:  18 |            | Start:  24 |            | Start:  33 |            | Start:  38 |\n",
      "| Job:  6 | Wait:   18 | Proc:    6 | Wait:    0 | Proc:    9 | Wait:    0 | Proc:    4 | Wait:    1 | Proc:    6 |\n",
      "|         |            | Stop:   24 |            | Stop:   33 |            | Stop:   37 |            | Stop:   44 |\n",
      "|---------|------------|------------|------------|------------|------------|------------|------------|------------|\n",
      "|         |            | Idle:    0 |            | Idle:    0 |            | Idle:    3 |            | Idle:    0 |\n",
      "|---------|------------|------------|------------|------------|------------|------------|------------|------------|\n",
      "|         |            | Start:  24 |            | Start:  33 |            | Start:  40 |            | Start:  44 |\n",
      "| Job:  4 | Wait:   24 | Proc:    7 | Wait:    2 | Proc:    7 | Wait:    0 | Proc:    3 | Wait:    1 | Proc:    3 |\n",
      "|         |            | Stop:   31 |            | Stop:   40 |            | Stop:   43 |            | Stop:   47 |\n",
      "|---------|------------|------------|------------|------------|------------|------------|------------|------------|\n",
      "|         |            | Idle:    0 |            | Idle:    0 |            | Idle:    0 |            | Idle:    0 |\n",
      "|---------|------------|------------|------------|------------|------------|------------|------------|------------|\n",
      "|         |            | Start:  31 |            | Start:  40 |            | Start:  43 |            | Start:  47 |\n",
      "| Job:  5 | Wait:   31 | Proc:    9 | Wait:    0 | Proc:    3 | Wait:    0 | Proc:    4 | Wait:    0 | Proc:    3 |\n",
      "|         |            | Stop:   40 |            | Stop:   43 |            | Stop:   47 |            | Stop:   50 |\n",
      "|---------|------------|------------|------------|------------|------------|------------|------------|------------|\n",
      "|         |            | Idle:    0 |            | Idle:    2 |            | Idle:    0 |            | Idle:    0 |\n",
      "|---------|------------|------------|------------|------------|------------|------------|------------|------------|\n",
      "|         |            | Start:  40 |            | Start:  45 |            | Start:  47 |            | Start:  50 |\n",
      "| Job:  3 | Wait:   40 | Proc:    5 | Wait:    0 | Proc:    2 | Wait:    0 | Proc:    3 | Wait:    0 | Proc:    4 |\n",
      "|         |            | Stop:   45 |            | Stop:   47 |            | Stop:   50 |            | Stop:   54 |\n",
      "|---------|------------|------------|------------|------------|------------|------------|------------|------------|\n",
      "\n"
     ]
    }
   ],
   "source": [
    "print(schedule())"
   ]
  },
  {
   "cell_type": "markdown",
   "id": "cee3ec6c",
   "metadata": {},
   "source": [
    "## <font color=orange><U><i><b><strong>Total runtime</strong></b></i></U></font>"
   ]
  },
  {
   "cell_type": "code",
   "execution_count": 41,
   "id": "a7fec1ab",
   "metadata": {},
   "outputs": [
    {
     "name": "stdout",
     "output_type": "stream",
     "text": [
      "Total Runtime: 0.231557 seconds\n"
     ]
    }
   ],
   "source": [
    "total_runtime = calculate_runtime(start_time)\n",
    "print(f\"Total Runtime: {total_runtime:.6f} seconds\")"
   ]
  },
  {
   "cell_type": "markdown",
   "id": "e37784f2",
   "metadata": {},
   "source": [
    "# -------------------------------------------------------------------------------------------------------------"
   ]
  },
  {
   "cell_type": "markdown",
   "id": "aafa5cb7",
   "metadata": {},
   "source": [
    "# <font color=green>II. <U><i><b><strong>WRITTEN CODE</strong></b></i></U></font>"
   ]
  },
  {
   "cell_type": "markdown",
   "id": "6abd4bcf",
   "metadata": {},
   "source": [
    "# Greedy "
   ]
  },
  {
   "cell_type": "markdown",
   "id": "9c7ae9af",
   "metadata": {},
   "source": [
    "## with makespan"
   ]
  },
  {
   "cell_type": "code",
   "execution_count": 43,
   "id": "1d37a6cd",
   "metadata": {},
   "outputs": [
    {
     "name": "stdout",
     "output_type": "stream",
     "text": [
      "Greedy Schedule-----\n",
      "Greedy Job Sequence: [1, 2, 3, 4, 0, 5, 6]\n",
      "|---------|------------|------------|------------|------------|------------|------------|------------|------------|\n",
      "|         |            | Machine: 0 |            | Machine: 1 |            | Machine: 2 |            | Machine: 3 |\n",
      "|---------|------------|------------|------------|------------|------------|------------|------------|------------|\n",
      "|         |            | Idle:    0 |            | Idle:    2 |            | Idle:    6 |            | Idle:   14 |\n",
      "|---------|------------|------------|------------|------------|------------|------------|------------|------------|\n",
      "|         |            | Start:   0 |            | Start:   2 |            | Start:   6 |            | Start:  14 |\n",
      "| Job:  1 | Wait:    0 | Proc:    2 | Wait:    0 | Proc:    4 | Wait:    0 | Proc:    8 | Wait:    0 | Proc:    3 |\n",
      "|         |            | Stop:    2 |            | Stop:    6 |            | Stop:   14 |            | Stop:   17 |\n",
      "|---------|------------|------------|------------|------------|------------|------------|------------|------------|\n",
      "|         |            | Idle:    0 |            | Idle:    5 |            | Idle:    4 |            | Idle:    3 |\n",
      "|---------|------------|------------|------------|------------|------------|------------|------------|------------|\n",
      "|         |            | Start:   2 |            | Start:  11 |            | Start:  18 |            | Start:  20 |\n",
      "| Job:  2 | Wait:    2 | Proc:    9 | Wait:    0 | Proc:    7 | Wait:    0 | Proc:    2 | Wait:    0 | Proc:    9 |\n",
      "|         |            | Stop:   11 |            | Stop:   18 |            | Stop:   20 |            | Stop:   29 |\n",
      "|---------|------------|------------|------------|------------|------------|------------|------------|------------|\n",
      "|         |            | Idle:    0 |            | Idle:    0 |            | Idle:    0 |            | Idle:    0 |\n",
      "|---------|------------|------------|------------|------------|------------|------------|------------|------------|\n",
      "|         |            | Start:  11 |            | Start:  18 |            | Start:  20 |            | Start:  29 |\n",
      "| Job:  3 | Wait:   11 | Proc:    5 | Wait:    2 | Proc:    2 | Wait:    0 | Proc:    3 | Wait:    6 | Proc:    4 |\n",
      "|         |            | Stop:   16 |            | Stop:   20 |            | Stop:   23 |            | Stop:   33 |\n",
      "|---------|------------|------------|------------|------------|------------|------------|------------|------------|\n",
      "|         |            | Idle:    0 |            | Idle:    3 |            | Idle:    7 |            | Idle:    0 |\n",
      "|---------|------------|------------|------------|------------|------------|------------|------------|------------|\n",
      "|         |            | Start:  16 |            | Start:  23 |            | Start:  30 |            | Start:  33 |\n",
      "| Job:  4 | Wait:   16 | Proc:    7 | Wait:    0 | Proc:    7 | Wait:    0 | Proc:    3 | Wait:    0 | Proc:    3 |\n",
      "|         |            | Stop:   23 |            | Stop:   30 |            | Stop:   33 |            | Stop:   36 |\n",
      "|---------|------------|------------|------------|------------|------------|------------|------------|------------|\n",
      "|         |            | Idle:    0 |            | Idle:    0 |            | Idle:    0 |            | Idle:    5 |\n",
      "|---------|------------|------------|------------|------------|------------|------------|------------|------------|\n",
      "|         |            | Start:  23 |            | Start:  30 |            | Start:  33 |            | Start:  41 |\n",
      "| Job:  0 | Wait:   23 | Proc:    7 | Wait:    0 | Proc:    3 | Wait:    0 | Proc:    8 | Wait:    0 | Proc:    8 |\n",
      "|         |            | Stop:   30 |            | Stop:   33 |            | Stop:   41 |            | Stop:   49 |\n",
      "|---------|------------|------------|------------|------------|------------|------------|------------|------------|\n",
      "|         |            | Idle:    0 |            | Idle:    6 |            | Idle:    1 |            | Idle:    0 |\n",
      "|---------|------------|------------|------------|------------|------------|------------|------------|------------|\n",
      "|         |            | Start:  30 |            | Start:  39 |            | Start:  42 |            | Start:  49 |\n",
      "| Job:  5 | Wait:   30 | Proc:    9 | Wait:    0 | Proc:    3 | Wait:    0 | Proc:    4 | Wait:    3 | Proc:    3 |\n",
      "|         |            | Stop:   39 |            | Stop:   42 |            | Stop:   46 |            | Stop:   52 |\n",
      "|---------|------------|------------|------------|------------|------------|------------|------------|------------|\n",
      "|         |            | Idle:    0 |            | Idle:    3 |            | Idle:    8 |            | Idle:    6 |\n",
      "|---------|------------|------------|------------|------------|------------|------------|------------|------------|\n",
      "|         |            | Start:  39 |            | Start:  45 |            | Start:  54 |            | Start:  58 |\n",
      "| Job:  6 | Wait:   39 | Proc:    6 | Wait:    0 | Proc:    9 | Wait:    0 | Proc:    4 | Wait:    0 | Proc:    6 |\n",
      "|         |            | Stop:   45 |            | Stop:   54 |            | Stop:   58 |            | Stop:   64 |\n",
      "|---------|------------|------------|------------|------------|------------|------------|------------|------------|\n",
      " Makespan value for Greedy:   64\n"
     ]
    }
   ],
   "source": [
    "import random\n",
    "N_JOBS = 7\n",
    "N_MACHINES = 4\n",
    "\n",
    "def generateData(seed=0):\n",
    "    PROC = [[0 for _ in range(N_MACHINES)] for _ in range(N_JOBS)]\n",
    "    random.seed(seed)\n",
    "    for j in range(N_JOBS):\n",
    "        for m in range(N_MACHINES):\n",
    "            PROC[j][m] = random.randint(1, 9)\n",
    "    return PROC\n",
    "\n",
    "def greedy_schedule(PROC):\n",
    "    random.seed(2821)  \n",
    "    machine_time = [0] * N_MACHINES\n",
    "    job_sequence = []\n",
    "\n",
    "    for _ in range(N_JOBS):\n",
    "        min_time = float('inf')\n",
    "        min_machine = None\n",
    "        min_job = None\n",
    "        \n",
    "        for j in range(N_JOBS):\n",
    "            if j not in job_sequence:\n",
    "                for m in range(N_MACHINES):\n",
    "                    if machine_time[m] + PROC[j][m] < min_time:\n",
    "                        min_time = machine_time[m] + PROC[j][m]\n",
    "                        min_machine = m\n",
    "                        min_job = j\n",
    "        \n",
    "        job_sequence.append(min_job)\n",
    "        machine_time[min_machine] = min_time\n",
    "    \n",
    "    return job_sequence\n",
    "\n",
    "def print_job_schedule(PROC, job_sequence):\n",
    "    starts = [[0] * N_MACHINES for _ in range(N_JOBS)]\n",
    "    stops = [[0] * N_MACHINES for _ in range(N_JOBS)]\n",
    "\n",
    "    row = \"|---------|\"\n",
    "    for m in range(N_MACHINES):\n",
    "        row += f\"------------|------------|\"\n",
    "    row += '\\n'\n",
    "    row += '|         |'\n",
    "    for m in range(N_MACHINES):\n",
    "        row += f\"            | Machine: {m:1d} |\"\n",
    "    row += '\\n'\n",
    "    for j in job_sequence:\n",
    "        row += '|---------|'\n",
    "        for m in range(N_MACHINES):\n",
    "            row += f\"------------|------------|\"\n",
    "        row += '\\n'\n",
    "        row += '|         |'\n",
    "        for m in range(N_MACHINES):\n",
    "            if m == 0:\n",
    "                starts[j][m] = stops[job_sequence[job_sequence.index(j) - 1]][m] if job_sequence.index(j) > 0 else 0\n",
    "            else:\n",
    "                starts[j][m] = max(stops[j][m - 1], stops[job_sequence[job_sequence.index(j) - 1]][m])\n",
    "            stops[j][m] = starts[j][m] + PROC[j][m]\n",
    "            idle = starts[j][m] - (stops[job_sequence[job_sequence.index(j) - 1]][m] if job_sequence.index(j) > 0 else 0)\n",
    "            row += f\"       {' ':4s} | Idle: {max(0, idle):4d} |\"\n",
    "        row += '\\n'\n",
    "        row += '|---------|'\n",
    "        for m in range(N_MACHINES):\n",
    "            row += f\"------------|------------|\"\n",
    "        row += '\\n'\n",
    "        row += '|         |'\n",
    "        for m in range(N_MACHINES):\n",
    "            row += f\"       {' ':4s} | Start:{starts[j][m]:4d} |\"\n",
    "        row += '\\n'\n",
    "        row += f'| Job: {j:2d} |'\n",
    "        for m in range(N_MACHINES):\n",
    "            wait = starts[j][m] - (stops[j][m - 1] if m > 0 else 0)\n",
    "            row += f\" Wait: {max(0, wait):4d} | Proc: {PROC[j][m]:4d} |\"\n",
    "        row += '\\n'\n",
    "        row += '|         |'\n",
    "        for m in range(N_MACHINES):\n",
    "            row += f\"       {' ':4s} | Stop: {stops[j][m]:4d} |\"\n",
    "        row += '\\n'\n",
    "    makespan_greedy = max(stop for job in stops for stop in job)    \n",
    "    row += '|---------|'\n",
    "    for m in range(N_MACHINES):\n",
    "        row += f\"------------|------------|\"\n",
    "    row += '\\n'\n",
    "    row += f' Makespan value for Greedy: {makespan_greedy:4d}'\n",
    "    \n",
    "    return row\n",
    "\n",
    "PROC = generateData(2821)\n",
    "job_sequence = greedy_schedule(PROC)\n",
    "print(\"Greedy Schedule-----\")\n",
    "print(\"Greedy Job Sequence:\", job_sequence)\n",
    "print(print_job_schedule(PROC, job_sequence))\n"
   ]
  },
  {
   "cell_type": "markdown",
   "id": "710bdcf3",
   "metadata": {},
   "source": [
    "## showing runtime and makespan "
   ]
  },
  {
   "cell_type": "code",
   "execution_count": 44,
   "id": "e54aec87",
   "metadata": {},
   "outputs": [
    {
     "name": "stdout",
     "output_type": "stream",
     "text": [
      "Greedy Schedule----\n",
      "Greedy Job Sequence: [1, 2, 3, 4, 0, 5, 6]\n",
      "|---------|------------|------------|------------|------------|------------|------------|------------|------------|\n",
      "|         |            | Machine: 0 |            | Machine: 1 |            | Machine: 2 |            | Machine: 3 |\n",
      "|---------|------------|------------|------------|------------|------------|------------|------------|------------|\n",
      "|         |            | Idle:    0 |            | Idle:    2 |            | Idle:    6 |            | Idle:   14 |\n",
      "|---------|------------|------------|------------|------------|------------|------------|------------|------------|\n",
      "|         |            | Start:   0 |            | Start:   2 |            | Start:   6 |            | Start:  14 |\n",
      "| Job:  1 | Wait:    0 | Proc:    2 | Wait:    0 | Proc:    4 | Wait:    0 | Proc:    8 | Wait:    0 | Proc:    3 |\n",
      "|         |            | Stop:    2 |            | Stop:    6 |            | Stop:   14 |            | Stop:   17 |\n",
      "|---------|------------|------------|------------|------------|------------|------------|------------|------------|\n",
      "|         |            | Idle:    0 |            | Idle:    5 |            | Idle:    4 |            | Idle:    3 |\n",
      "|---------|------------|------------|------------|------------|------------|------------|------------|------------|\n",
      "|         |            | Start:   2 |            | Start:  11 |            | Start:  18 |            | Start:  20 |\n",
      "| Job:  2 | Wait:    2 | Proc:    9 | Wait:    0 | Proc:    7 | Wait:    0 | Proc:    2 | Wait:    0 | Proc:    9 |\n",
      "|         |            | Stop:   11 |            | Stop:   18 |            | Stop:   20 |            | Stop:   29 |\n",
      "|---------|------------|------------|------------|------------|------------|------------|------------|------------|\n",
      "|         |            | Idle:    0 |            | Idle:    0 |            | Idle:    0 |            | Idle:    0 |\n",
      "|---------|------------|------------|------------|------------|------------|------------|------------|------------|\n",
      "|         |            | Start:  11 |            | Start:  18 |            | Start:  20 |            | Start:  29 |\n",
      "| Job:  3 | Wait:   11 | Proc:    5 | Wait:    2 | Proc:    2 | Wait:    0 | Proc:    3 | Wait:    6 | Proc:    4 |\n",
      "|         |            | Stop:   16 |            | Stop:   20 |            | Stop:   23 |            | Stop:   33 |\n",
      "|---------|------------|------------|------------|------------|------------|------------|------------|------------|\n",
      "|         |            | Idle:    0 |            | Idle:    3 |            | Idle:    7 |            | Idle:    0 |\n",
      "|---------|------------|------------|------------|------------|------------|------------|------------|------------|\n",
      "|         |            | Start:  16 |            | Start:  23 |            | Start:  30 |            | Start:  33 |\n",
      "| Job:  4 | Wait:   16 | Proc:    7 | Wait:    0 | Proc:    7 | Wait:    0 | Proc:    3 | Wait:    0 | Proc:    3 |\n",
      "|         |            | Stop:   23 |            | Stop:   30 |            | Stop:   33 |            | Stop:   36 |\n",
      "|---------|------------|------------|------------|------------|------------|------------|------------|------------|\n",
      "|         |            | Idle:    0 |            | Idle:    0 |            | Idle:    0 |            | Idle:    5 |\n",
      "|---------|------------|------------|------------|------------|------------|------------|------------|------------|\n",
      "|         |            | Start:  23 |            | Start:  30 |            | Start:  33 |            | Start:  41 |\n",
      "| Job:  0 | Wait:   23 | Proc:    7 | Wait:    0 | Proc:    3 | Wait:    0 | Proc:    8 | Wait:    0 | Proc:    8 |\n",
      "|         |            | Stop:   30 |            | Stop:   33 |            | Stop:   41 |            | Stop:   49 |\n",
      "|---------|------------|------------|------------|------------|------------|------------|------------|------------|\n",
      "|         |            | Idle:    0 |            | Idle:    6 |            | Idle:    1 |            | Idle:    0 |\n",
      "|---------|------------|------------|------------|------------|------------|------------|------------|------------|\n",
      "|         |            | Start:  30 |            | Start:  39 |            | Start:  42 |            | Start:  49 |\n",
      "| Job:  5 | Wait:   30 | Proc:    9 | Wait:    0 | Proc:    3 | Wait:    0 | Proc:    4 | Wait:    3 | Proc:    3 |\n",
      "|         |            | Stop:   39 |            | Stop:   42 |            | Stop:   46 |            | Stop:   52 |\n",
      "|---------|------------|------------|------------|------------|------------|------------|------------|------------|\n",
      "|         |            | Idle:    0 |            | Idle:    3 |            | Idle:    8 |            | Idle:    6 |\n",
      "|---------|------------|------------|------------|------------|------------|------------|------------|------------|\n",
      "|         |            | Start:  39 |            | Start:  45 |            | Start:  54 |            | Start:  58 |\n",
      "| Job:  6 | Wait:   39 | Proc:    6 | Wait:    0 | Proc:    9 | Wait:    0 | Proc:    4 | Wait:    0 | Proc:    6 |\n",
      "|         |            | Stop:   45 |            | Stop:   54 |            | Stop:   58 |            | Stop:   64 |\n",
      "|---------|------------|------------|------------|------------|------------|------------|------------|------------|\n",
      " Makespan value for Greedy:   64\n",
      "Greedy Algorithm Runtime value: 0.000000 seconds\n"
     ]
    }
   ],
   "source": [
    "import random\n",
    "import time\n",
    "N_JOBS = 7\n",
    "N_MACHINES = 4\n",
    "\n",
    "def generateData(seed=0):\n",
    "    PROC = [[0 for _ in range(N_MACHINES)] for _ in range(N_JOBS)]\n",
    "    random.seed(seed)\n",
    "    for j in range(N_JOBS):\n",
    "        for m in range(N_MACHINES):\n",
    "            PROC[j][m] = random.randint(1, 9)\n",
    "    return PROC\n",
    "\n",
    "def greedy_schedule(PROC):\n",
    "    start_time = time.time()  \n",
    "    random.seed(2821)  \n",
    "    machine_time = [0] * N_MACHINES\n",
    "    job_sequence = []\n",
    "\n",
    "    for _ in range(N_JOBS):\n",
    "        min_time = float('inf')\n",
    "        min_machine = None\n",
    "        min_job = None\n",
    "        \n",
    "        for j in range(N_JOBS):\n",
    "            if j not in job_sequence:\n",
    "                for m in range(N_MACHINES):\n",
    "                    if machine_time[m] + PROC[j][m] < min_time:\n",
    "                        min_time = machine_time[m] + PROC[j][m]\n",
    "                        min_machine = m\n",
    "                        min_job = j\n",
    "        \n",
    "        job_sequence.append(min_job)\n",
    "        machine_time[min_machine] = min_time\n",
    "    \n",
    "    end_time = time.time()  \n",
    "    runtime = end_time - start_time \n",
    "    return job_sequence, runtime\n",
    "\n",
    "def print_job_schedule(PROC, job_sequence):\n",
    "    starts = [[0] * N_MACHINES for _ in range(N_JOBS)]\n",
    "    stops = [[0] * N_MACHINES for _ in range(N_JOBS)]\n",
    "\n",
    "    row = \"|---------|\"\n",
    "    for m in range(N_MACHINES):\n",
    "        row += f\"------------|------------|\"\n",
    "    row += '\\n'\n",
    "    row += '|         |'\n",
    "    for m in range(N_MACHINES):\n",
    "        row += f\"            | Machine: {m:1d} |\"\n",
    "    row += '\\n'\n",
    "    for j in job_sequence:\n",
    "        row += '|---------|'\n",
    "        for m in range(N_MACHINES):\n",
    "            row += f\"------------|------------|\"\n",
    "        row += '\\n'\n",
    "        row += '|         |'\n",
    "        for m in range(N_MACHINES):\n",
    "            if m == 0:\n",
    "                starts[j][m] = stops[job_sequence[job_sequence.index(j) - 1]][m] if job_sequence.index(j) > 0 else 0\n",
    "            else:\n",
    "                starts[j][m] = max(stops[j][m - 1], stops[job_sequence[job_sequence.index(j) - 1]][m])\n",
    "            stops[j][m] = starts[j][m] + PROC[j][m]\n",
    "            idle = starts[j][m] - (stops[job_sequence[job_sequence.index(j) - 1]][m] if job_sequence.index(j) > 0 else 0)\n",
    "            row += f\"       {' ':4s} | Idle: {max(0, idle):4d} |\"\n",
    "        row += '\\n'\n",
    "        row += '|---------|'\n",
    "        for m in range(N_MACHINES):\n",
    "            row += f\"------------|------------|\"\n",
    "        row += '\\n'\n",
    "        row += '|         |'\n",
    "        for m in range(N_MACHINES):\n",
    "            row += f\"       {' ':4s} | Start:{starts[j][m]:4d} |\"\n",
    "        row += '\\n'\n",
    "        row += f'| Job: {j:2d} |'\n",
    "        for m in range(N_MACHINES):\n",
    "            wait = starts[j][m] - (stops[j][m - 1] if m > 0 else 0)\n",
    "            row += f\" Wait: {max(0, wait):4d} | Proc: {PROC[j][m]:4d} |\"\n",
    "        row += '\\n'\n",
    "        row += '|         |'\n",
    "        for m in range(N_MACHINES):\n",
    "            row += f\"       {' ':4s} | Stop: {stops[j][m]:4d} |\"\n",
    "        row += '\\n'\n",
    "    makespan_greedy = max(stop for job in stops for stop in job)    \n",
    "    row += '|---------|'\n",
    "    for m in range(N_MACHINES):\n",
    "        row += f\"------------|------------|\"\n",
    "    row += '\\n'\n",
    "    row += f' Makespan value for Greedy: {makespan_greedy:4d}'\n",
    "    \n",
    "    return row\n",
    "\n",
    "PROC = generateData(2821)\n",
    "job_sequence, runtime_greedy = greedy_schedule(PROC)\n",
    "print(\"Greedy Schedule----\")\n",
    "print(\"Greedy Job Sequence:\", job_sequence)\n",
    "print(print_job_schedule(PROC, job_sequence))\n",
    "end_time = time.time()  \n",
    "print(f\"Greedy Algorithm Runtime value: {runtime_greedy:.6f} seconds\")"
   ]
  },
  {
   "cell_type": "code",
   "execution_count": 61,
   "id": "32f71285",
   "metadata": {},
   "outputs": [
    {
     "name": "stdout",
     "output_type": "stream",
     "text": [
      "Value of Greedy makespan: 64\n",
      "Greedy Job Sequence: [1, 2, 3, 4, 0, 5, 6]\n",
      "64\n"
     ]
    }
   ],
   "source": [
    "def print_job_schedule(PROC, job_sequence):\n",
    "    starts = [[0] * N_MACHINES for _ in range(N_JOBS)]\n",
    "    stops = [[0] * N_MACHINES for _ in range(N_JOBS)]\n",
    "\n",
    "    row = \"|---------|\"\n",
    "    for m in range(N_MACHINES):\n",
    "        row += f\"------------|------------|\"\n",
    "    row += '\\n'\n",
    "    row += '|         |'\n",
    "    for m in range(N_MACHINES):\n",
    "        row += f\"            | Machine: {m:1d} |\"\n",
    "    row += '\\n'\n",
    "    for j in job_sequence:\n",
    "        row += '|---------|'\n",
    "        for m in range(N_MACHINES):\n",
    "            row += f\"------------|------------|\"\n",
    "        row += '\\n'\n",
    "        row += '|         |'\n",
    "        for m in range(N_MACHINES):\n",
    "            if m == 0:\n",
    "                starts[j][m] = stops[job_sequence[job_sequence.index(j) - 1]][m] if job_sequence.index(j) > 0 else 0\n",
    "            else:\n",
    "                starts[j][m] = max(stops[j][m - 1], stops[job_sequence[job_sequence.index(j) - 1]][m])\n",
    "            stops[j][m] = starts[j][m] + PROC[j][m]\n",
    "            idle = starts[j][m] - (stops[job_sequence[job_sequence.index(j) - 1]][m] if job_sequence.index(j) > 0 else 0)\n",
    "            row += f\"       {' ':4s} | Idle: {max(0, idle):4d} |\"\n",
    "        row += '\\n'\n",
    "        row += '|---------|'\n",
    "        for m in range(N_MACHINES):\n",
    "            row += f\"------------|------------|\"\n",
    "        row += '\\n'\n",
    "        row += '|         |'\n",
    "        for m in range(N_MACHINES):\n",
    "            row += f\"       {' ':4s} | Start:{starts[j][m]:4d} |\"\n",
    "        row += '\\n'\n",
    "        row += f'| Job: {j:2d} |'\n",
    "        for m in range(N_MACHINES):\n",
    "            wait = starts[j][m] - (stops[j][m - 1] if m > 0 else 0)\n",
    "            row += f\" Wait: {max(0, wait):4d} | Proc: {PROC[j][m]:4d} |\"\n",
    "        row += '\\n'\n",
    "        row += '|         |'\n",
    "        for m in range(N_MACHINES):\n",
    "            row += f\"       {' ':4s} | Stop: {stops[j][m]:4d} |\"\n",
    "        row += '\\n'\n",
    "    makespan_greedy = max(stop for job in stops for stop in job)  \n",
    "    row += '|---------|'\n",
    "    for m in range(N_MACHINES):\n",
    "        row += f\"------------|------------|\"\n",
    "    row += '\\n'\n",
    "    row += f' Makespan: {makespan_greedy:4d}'\n",
    "    \n",
    "    return makespan_greedy\n",
    "\n",
    "PROC = generateData(2821)\n",
    "makespan_greedy_value=print_job_schedule(PROC,job_sequence)\n",
    "job_sequence = greedy_schedule(PROC)\n",
    "print(\"Value of Greedy makespan:\",makespan_greedy_value)\n",
    "print(\"Greedy Job Sequence:\", job_sequence)\n",
    "print(print_job_schedule(PROC, job_sequence))"
   ]
  },
  {
   "cell_type": "markdown",
   "id": "885125cb",
   "metadata": {},
   "source": [
    "## printing makespan value for greedy"
   ]
  },
  {
   "cell_type": "code",
   "execution_count": 52,
   "id": "90cb2a23",
   "metadata": {},
   "outputs": [
    {
     "name": "stdout",
     "output_type": "stream",
     "text": [
      "Makespan value for Greedy: 64\n"
     ]
    }
   ],
   "source": [
    "print(\"Makespan value for Greedy:\",makespan_greedy_value)"
   ]
  },
  {
   "cell_type": "markdown",
   "id": "9fa92fd3",
   "metadata": {},
   "source": [
    "## printing PROC of Greedy"
   ]
  },
  {
   "cell_type": "code",
   "execution_count": 130,
   "id": "1fa947bf",
   "metadata": {
    "scrolled": true
   },
   "outputs": [
    {
     "name": "stdout",
     "output_type": "stream",
     "text": [
      "Processing times (PROC) for the generated job sequence:\n",
      "Job 1: [2, 4, 8, 3]\n",
      "Job 2: [9, 7, 2, 9]\n",
      "Job 3: [5, 2, 3, 4]\n",
      "Job 4: [7, 7, 3, 3]\n",
      "Job 0: [7, 3, 8, 8]\n",
      "Job 5: [9, 3, 4, 3]\n",
      "Job 6: [6, 9, 4, 6]\n"
     ]
    }
   ],
   "source": [
    "PROC = generateData(2821)\n",
    "job_sequence = greedy_schedule(PROC)\n",
    "print(\"Processing times (PROC) for the generated job sequence:\")\n",
    "for job_index in job_sequence:\n",
    "    print(f\"Job {job_index}: {PROC[job_index]}\")"
   ]
  },
  {
   "cell_type": "markdown",
   "id": "ed131495",
   "metadata": {},
   "source": [
    "# Stochastic"
   ]
  },
  {
   "cell_type": "code",
   "execution_count": 32,
   "id": "9d05d34b",
   "metadata": {},
   "outputs": [
    {
     "name": "stdout",
     "output_type": "stream",
     "text": [
      "Stochastic Search Schedule----\n",
      "Stochastic Job Sequence: [3, 1, 4, 0, 6, 5, 2]\n",
      "|---------|------------|------------|------------|------------|------------|------------|------------|------------|\n",
      "|         |            | Machine: 0 |            | Machine: 1 |            | Machine: 2 |            | Machine: 3 |\n",
      "|---------|------------|------------|------------|------------|------------|------------|------------|------------|\n",
      "|         |            | Idle:    0 |            | Idle:    5 |            | Idle:    7 |            | Idle:   10 |\n",
      "|---------|------------|------------|------------|------------|------------|------------|------------|------------|\n",
      "|         |            | Start:   0 |            | Start:   5 |            | Start:   7 |            | Start:  10 |\n",
      "| Job:  3 | Wait:    0 | Proc:    5 | Wait:    0 | Proc:    2 | Wait:    0 | Proc:    3 | Wait:    0 | Proc:    4 |\n",
      "|         |            | Stop:    5 |            | Stop:    7 |            | Stop:   10 |            | Stop:   14 |\n",
      "|---------|------------|------------|------------|------------|------------|------------|------------|------------|\n",
      "|         |            | Idle:    0 |            | Idle:    0 |            | Idle:    1 |            | Idle:    5 |\n",
      "|---------|------------|------------|------------|------------|------------|------------|------------|------------|\n",
      "|         |            | Start:   5 |            | Start:   7 |            | Start:  11 |            | Start:  19 |\n",
      "| Job:  1 | Wait:    5 | Proc:    2 | Wait:    0 | Proc:    4 | Wait:    0 | Proc:    8 | Wait:    0 | Proc:    3 |\n",
      "|         |            | Stop:    7 |            | Stop:   11 |            | Stop:   19 |            | Stop:   22 |\n",
      "|---------|------------|------------|------------|------------|------------|------------|------------|------------|\n",
      "|         |            | Idle:    0 |            | Idle:    3 |            | Idle:    2 |            | Idle:    2 |\n",
      "|---------|------------|------------|------------|------------|------------|------------|------------|------------|\n",
      "|         |            | Start:   7 |            | Start:  14 |            | Start:  21 |            | Start:  24 |\n",
      "| Job:  4 | Wait:    7 | Proc:    7 | Wait:    0 | Proc:    7 | Wait:    0 | Proc:    3 | Wait:    0 | Proc:    3 |\n",
      "|         |            | Stop:   14 |            | Stop:   21 |            | Stop:   24 |            | Stop:   27 |\n",
      "|---------|------------|------------|------------|------------|------------|------------|------------|------------|\n",
      "|         |            | Idle:    0 |            | Idle:    0 |            | Idle:    0 |            | Idle:    5 |\n",
      "|---------|------------|------------|------------|------------|------------|------------|------------|------------|\n",
      "|         |            | Start:  14 |            | Start:  21 |            | Start:  24 |            | Start:  32 |\n",
      "| Job:  0 | Wait:   14 | Proc:    7 | Wait:    0 | Proc:    3 | Wait:    0 | Proc:    8 | Wait:    0 | Proc:    8 |\n",
      "|         |            | Stop:   21 |            | Stop:   24 |            | Stop:   32 |            | Stop:   40 |\n",
      "|---------|------------|------------|------------|------------|------------|------------|------------|------------|\n",
      "|         |            | Idle:    0 |            | Idle:    3 |            | Idle:    4 |            | Idle:    0 |\n",
      "|---------|------------|------------|------------|------------|------------|------------|------------|------------|\n",
      "|         |            | Start:  21 |            | Start:  27 |            | Start:  36 |            | Start:  40 |\n",
      "| Job:  6 | Wait:   21 | Proc:    6 | Wait:    0 | Proc:    9 | Wait:    0 | Proc:    4 | Wait:    0 | Proc:    6 |\n",
      "|         |            | Stop:   27 |            | Stop:   36 |            | Stop:   40 |            | Stop:   46 |\n",
      "|---------|------------|------------|------------|------------|------------|------------|------------|------------|\n",
      "|         |            | Idle:    0 |            | Idle:    0 |            | Idle:    0 |            | Idle:    0 |\n",
      "|---------|------------|------------|------------|------------|------------|------------|------------|------------|\n",
      "|         |            | Start:  27 |            | Start:  36 |            | Start:  40 |            | Start:  46 |\n",
      "| Job:  5 | Wait:   27 | Proc:    9 | Wait:    0 | Proc:    3 | Wait:    1 | Proc:    4 | Wait:    2 | Proc:    3 |\n",
      "|         |            | Stop:   36 |            | Stop:   39 |            | Stop:   44 |            | Stop:   49 |\n",
      "|---------|------------|------------|------------|------------|------------|------------|------------|------------|\n",
      "|         |            | Idle:    0 |            | Idle:    6 |            | Idle:    8 |            | Idle:    5 |\n",
      "|---------|------------|------------|------------|------------|------------|------------|------------|------------|\n",
      "|         |            | Start:  36 |            | Start:  45 |            | Start:  52 |            | Start:  54 |\n",
      "| Job:  2 | Wait:   36 | Proc:    9 | Wait:    0 | Proc:    7 | Wait:    0 | Proc:    2 | Wait:    0 | Proc:    9 |\n",
      "|         |            | Stop:   45 |            | Stop:   52 |            | Stop:   54 |            | Stop:   63 |\n",
      "|---------|------------|------------|------------|------------|------------|------------|------------|------------|\n",
      " Makespan for Stochastic:   63\n"
     ]
    }
   ],
   "source": [
    "import random\n",
    "import math\n",
    "N_JOBS = 7\n",
    "N_MACHINES = 4\n",
    "INITIAL_TEMPERATURE = 1000\n",
    "COOLING_RATE = 0.95\n",
    "NUM_ITERATIONS = 1000\n",
    "\n",
    "def generateData(seed=0):\n",
    "    PROC = [[0 for _ in range(N_MACHINES)] for _ in range(N_JOBS)]\n",
    "    random.seed(seed)\n",
    "    for j in range(N_JOBS):\n",
    "        for m in range(N_MACHINES):\n",
    "            PROC[j][m] = random.randint(1, 9)\n",
    "    return PROC\n",
    "\n",
    "def initial_solution():\n",
    "    solution = list(range(N_JOBS))\n",
    "    random.shuffle(solution)\n",
    "    return solution\n",
    "\n",
    "def cost(solution, PROC):\n",
    "    machine_time = [0] * N_MACHINES\n",
    "    total_time = 0\n",
    "    for job in solution:\n",
    "        for machine in range(N_MACHINES):\n",
    "            machine_time[machine] += PROC[job][machine]\n",
    "        total_time += max(machine_time)\n",
    "    return total_time\n",
    "\n",
    "def neighbor(solution):\n",
    "    neighbor_solution = solution.copy()\n",
    "    idx1, idx2 = random.sample(range(N_JOBS), 2)\n",
    "    neighbor_solution[idx1], neighbor_solution[idx2] = neighbor_solution[idx2], neighbor_solution[idx1]\n",
    "    return neighbor_solution\n",
    "\n",
    "def acceptance_probability(cost_current, cost_neighbor, temperature):\n",
    "    if cost_neighbor < cost_current:\n",
    "        return 1.0\n",
    "    return math.exp((cost_current - cost_neighbor) / temperature)\n",
    "\n",
    "def stochastic_search(PROC):\n",
    "    current_solution = initial_solution()\n",
    "    best_solution = current_solution\n",
    "    temperature = INITIAL_TEMPERATURE\n",
    "    while temperature > 1:\n",
    "        for _ in range(NUM_ITERATIONS):\n",
    "            neighbor_solution = neighbor(current_solution)\n",
    "            current_cost = cost(current_solution, PROC)\n",
    "            neighbor_cost = cost(neighbor_solution, PROC)\n",
    "            if acceptance_probability(current_cost, neighbor_cost, temperature) > random.random():\n",
    "                current_solution = neighbor_solution\n",
    "                if neighbor_cost < cost(best_solution, PROC):\n",
    "                    best_solution = neighbor_solution\n",
    "        temperature *= COOLING_RATE\n",
    "    return best_solution\n",
    "\n",
    "def print_job_schedule(PROC, job_sequence):\n",
    "    starts = [[0] * N_MACHINES for _ in range(N_JOBS)]\n",
    "    stops = [[0] * N_MACHINES for _ in range(N_JOBS)]\n",
    "\n",
    "    row = \"|---------|\"\n",
    "    for m in range(N_MACHINES):\n",
    "        row += f\"------------|------------|\"\n",
    "    row += '\\n'\n",
    "    row += '|         |'\n",
    "    for m in range(N_MACHINES):\n",
    "        row += f\"            | Machine: {m:1d} |\"\n",
    "    row += '\\n'\n",
    "    for j in job_sequence:\n",
    "        row += '|---------|'\n",
    "        for m in range(N_MACHINES):\n",
    "            row += f\"------------|------------|\"\n",
    "        row += '\\n'\n",
    "        row += '|         |'\n",
    "        for m in range(N_MACHINES):\n",
    "            if m == 0:\n",
    "                starts[j][m] = stops[job_sequence[job_sequence.index(j) - 1]][m] if job_sequence.index(j) > 0 else 0\n",
    "            else:\n",
    "                starts[j][m] = max(stops[j][m - 1], stops[job_sequence[job_sequence.index(j) - 1]][m])\n",
    "            stops[j][m] = starts[j][m] + PROC[j][m]\n",
    "            idle = starts[j][m] - (stops[job_sequence[job_sequence.index(j) - 1]][m] if job_sequence.index(j) > 0 else 0)\n",
    "            row += f\"       {' ':4s} | Idle: {max(0, idle):4d} |\"\n",
    "        row += '\\n'\n",
    "        row += '|---------|'\n",
    "        for m in range(N_MACHINES):\n",
    "            row += f\"------------|------------|\"\n",
    "        row += '\\n'\n",
    "        row += '|         |'\n",
    "        for m in range(N_MACHINES):\n",
    "            row += f\"       {' ':4s} | Start:{starts[j][m]:4d} |\"\n",
    "        row += '\\n'\n",
    "        row += f'| Job: {j:2d} |'\n",
    "        for m in range(N_MACHINES):\n",
    "            wait = starts[j][m] - (stops[j][m - 1] if m > 0 else 0)\n",
    "            row += f\" Wait: {max(0, wait):4d} | Proc: {PROC[j][m]:4d} |\"\n",
    "        row += '\\n'\n",
    "        row += '|         |'\n",
    "        for m in range(N_MACHINES):\n",
    "            row += f\"       {' ':4s} | Stop: {stops[j][m]:4d} |\"\n",
    "        row += '\\n'\n",
    "    makespan_stochastic = max(stop for job in stops for stop in job)    \n",
    "    row += '|---------|'\n",
    "    for m in range(N_MACHINES):\n",
    "        row += f\"------------|------------|\"\n",
    "    row += '\\n'\n",
    "    row += f' Makespan for Stochastic: {makespan_stochastic:4d}'\n",
    "    return row\n",
    "\n",
    "PROC = generateData(2821)\n",
    "job_sequence = stochastic_search(PROC)\n",
    "print(\"Stochastic Search Schedule----\")\n",
    "print(\"Stochastic Job Sequence:\", job_sequence)\n",
    "print(print_job_schedule(PROC, job_sequence))\n"
   ]
  },
  {
   "cell_type": "markdown",
   "id": "04786ff8",
   "metadata": {},
   "source": [
    "## showing runtime and makespan"
   ]
  },
  {
   "cell_type": "code",
   "execution_count": 36,
   "id": "e92634d7",
   "metadata": {},
   "outputs": [
    {
     "name": "stdout",
     "output_type": "stream",
     "text": [
      "Stochastic Search Schedule----\n",
      "Stochastic Job Sequence: [3, 1, 4, 0, 6, 5, 2]\n",
      "|---------|------------|------------|------------|------------|------------|------------|------------|------------|\n",
      "|         |            | Machine: 0 |            | Machine: 1 |            | Machine: 2 |            | Machine: 3 |\n",
      "|---------|------------|------------|------------|------------|------------|------------|------------|------------|\n",
      "|         |            | Idle:    0 |            | Idle:    5 |            | Idle:    7 |            | Idle:   10 |\n",
      "|---------|------------|------------|------------|------------|------------|------------|------------|------------|\n",
      "|         |            | Start:   0 |            | Start:   5 |            | Start:   7 |            | Start:  10 |\n",
      "| Job:  3 | Wait:    0 | Proc:    5 | Wait:    0 | Proc:    2 | Wait:    0 | Proc:    3 | Wait:    0 | Proc:    4 |\n",
      "|         |            | Stop:    5 |            | Stop:    7 |            | Stop:   10 |            | Stop:   14 |\n",
      "|---------|------------|------------|------------|------------|------------|------------|------------|------------|\n",
      "|         |            | Idle:    0 |            | Idle:    0 |            | Idle:    1 |            | Idle:    5 |\n",
      "|---------|------------|------------|------------|------------|------------|------------|------------|------------|\n",
      "|         |            | Start:   5 |            | Start:   7 |            | Start:  11 |            | Start:  19 |\n",
      "| Job:  1 | Wait:    5 | Proc:    2 | Wait:    0 | Proc:    4 | Wait:    0 | Proc:    8 | Wait:    0 | Proc:    3 |\n",
      "|         |            | Stop:    7 |            | Stop:   11 |            | Stop:   19 |            | Stop:   22 |\n",
      "|---------|------------|------------|------------|------------|------------|------------|------------|------------|\n",
      "|         |            | Idle:    0 |            | Idle:    3 |            | Idle:    2 |            | Idle:    2 |\n",
      "|---------|------------|------------|------------|------------|------------|------------|------------|------------|\n",
      "|         |            | Start:   7 |            | Start:  14 |            | Start:  21 |            | Start:  24 |\n",
      "| Job:  4 | Wait:    7 | Proc:    7 | Wait:    0 | Proc:    7 | Wait:    0 | Proc:    3 | Wait:    0 | Proc:    3 |\n",
      "|         |            | Stop:   14 |            | Stop:   21 |            | Stop:   24 |            | Stop:   27 |\n",
      "|---------|------------|------------|------------|------------|------------|------------|------------|------------|\n",
      "|         |            | Idle:    0 |            | Idle:    0 |            | Idle:    0 |            | Idle:    5 |\n",
      "|---------|------------|------------|------------|------------|------------|------------|------------|------------|\n",
      "|         |            | Start:  14 |            | Start:  21 |            | Start:  24 |            | Start:  32 |\n",
      "| Job:  0 | Wait:   14 | Proc:    7 | Wait:    0 | Proc:    3 | Wait:    0 | Proc:    8 | Wait:    0 | Proc:    8 |\n",
      "|         |            | Stop:   21 |            | Stop:   24 |            | Stop:   32 |            | Stop:   40 |\n",
      "|---------|------------|------------|------------|------------|------------|------------|------------|------------|\n",
      "|         |            | Idle:    0 |            | Idle:    3 |            | Idle:    4 |            | Idle:    0 |\n",
      "|---------|------------|------------|------------|------------|------------|------------|------------|------------|\n",
      "|         |            | Start:  21 |            | Start:  27 |            | Start:  36 |            | Start:  40 |\n",
      "| Job:  6 | Wait:   21 | Proc:    6 | Wait:    0 | Proc:    9 | Wait:    0 | Proc:    4 | Wait:    0 | Proc:    6 |\n",
      "|         |            | Stop:   27 |            | Stop:   36 |            | Stop:   40 |            | Stop:   46 |\n",
      "|---------|------------|------------|------------|------------|------------|------------|------------|------------|\n",
      "|         |            | Idle:    0 |            | Idle:    0 |            | Idle:    0 |            | Idle:    0 |\n",
      "|---------|------------|------------|------------|------------|------------|------------|------------|------------|\n",
      "|         |            | Start:  27 |            | Start:  36 |            | Start:  40 |            | Start:  46 |\n",
      "| Job:  5 | Wait:   27 | Proc:    9 | Wait:    0 | Proc:    3 | Wait:    1 | Proc:    4 | Wait:    2 | Proc:    3 |\n",
      "|         |            | Stop:   36 |            | Stop:   39 |            | Stop:   44 |            | Stop:   49 |\n",
      "|---------|------------|------------|------------|------------|------------|------------|------------|------------|\n",
      "|         |            | Idle:    0 |            | Idle:    6 |            | Idle:    8 |            | Idle:    5 |\n",
      "|---------|------------|------------|------------|------------|------------|------------|------------|------------|\n",
      "|         |            | Start:  36 |            | Start:  45 |            | Start:  52 |            | Start:  54 |\n",
      "| Job:  2 | Wait:   36 | Proc:    9 | Wait:    0 | Proc:    7 | Wait:    0 | Proc:    2 | Wait:    0 | Proc:    9 |\n",
      "|         |            | Stop:   45 |            | Stop:   52 |            | Stop:   54 |            | Stop:   63 |\n",
      "|---------|------------|------------|------------|------------|------------|------------|------------|------------|\n",
      " Makespan Value for Stochastic:   63\n",
      "Stochastic Search Runtime: 1.872630 seconds\n"
     ]
    }
   ],
   "source": [
    "import random\n",
    "import math\n",
    "import time\n",
    "\n",
    "N_JOBS = 7\n",
    "N_MACHINES = 4\n",
    "INITIAL_TEMPERATURE = 1000\n",
    "COOLING_RATE = 0.95\n",
    "NUM_ITERATIONS = 1000\n",
    "\n",
    "def generateData(seed=0):\n",
    "    PROC = [[0 for _ in range(N_MACHINES)] for _ in range(N_JOBS)]\n",
    "    random.seed(seed)\n",
    "    for j in range(N_JOBS):\n",
    "        for m in range(N_MACHINES):\n",
    "            PROC[j][m] = random.randint(1, 9)\n",
    "    return PROC\n",
    "\n",
    "def initial_solution():\n",
    "    solution = list(range(N_JOBS))\n",
    "    random.shuffle(solution)\n",
    "    return solution\n",
    "\n",
    "def cost(solution, PROC):\n",
    "    machine_time = [0] * N_MACHINES\n",
    "    total_time = 0\n",
    "    for job in solution:\n",
    "        for machine in range(N_MACHINES):\n",
    "            machine_time[machine] += PROC[job][machine]\n",
    "        total_time += max(machine_time)\n",
    "    return total_time\n",
    "\n",
    "def neighbor(solution):\n",
    "    neighbor_solution = solution.copy()\n",
    "    idx1, idx2 = random.sample(range(N_JOBS), 2)\n",
    "    neighbor_solution[idx1], neighbor_solution[idx2] = neighbor_solution[idx2], neighbor_solution[idx1]\n",
    "    return neighbor_solution\n",
    "\n",
    "def acceptance_probability(cost_current, cost_neighbor, temperature):\n",
    "    if cost_neighbor < cost_current:\n",
    "        return 1.0\n",
    "    return math.exp((cost_current - cost_neighbor) / temperature)\n",
    "\n",
    "def stochastic_search(PROC):\n",
    "    start_time = time.time()  \n",
    "    current_solution = initial_solution()\n",
    "    best_solution = current_solution\n",
    "    temperature = INITIAL_TEMPERATURE\n",
    "    while temperature > 1:\n",
    "        for _ in range(NUM_ITERATIONS):\n",
    "            neighbor_solution = neighbor(current_solution)\n",
    "            current_cost = cost(current_solution, PROC)\n",
    "            neighbor_cost = cost(neighbor_solution, PROC)\n",
    "            if acceptance_probability(current_cost, neighbor_cost, temperature) > random.random():\n",
    "                current_solution = neighbor_solution\n",
    "                if neighbor_cost < cost(best_solution, PROC):\n",
    "                    best_solution = neighbor_solution\n",
    "        temperature *= COOLING_RATE\n",
    "    end_time = time.time()  \n",
    "    runtime = end_time - start_time  \n",
    "    return best_solution, runtime\n",
    "\n",
    "def print_job_schedule(PROC, job_sequence):\n",
    "    starts = [[0] * N_MACHINES for _ in range(N_JOBS)]\n",
    "    stops = [[0] * N_MACHINES for _ in range(N_JOBS)]\n",
    "\n",
    "    row = \"|---------|\"\n",
    "    for m in range(N_MACHINES):\n",
    "        row += f\"------------|------------|\"\n",
    "    row += '\\n'\n",
    "    row += '|         |'\n",
    "    for m in range(N_MACHINES):\n",
    "        row += f\"            | Machine: {m:1d} |\"\n",
    "    row += '\\n'\n",
    "    for j in job_sequence:\n",
    "        row += '|---------|'\n",
    "        for m in range(N_MACHINES):\n",
    "            row += f\"------------|------------|\"\n",
    "        row += '\\n'\n",
    "        row += '|         |'\n",
    "        for m in range(N_MACHINES):\n",
    "            if m == 0:\n",
    "                starts[j][m] = stops[job_sequence[job_sequence.index(j) - 1]][m] if job_sequence.index(j) > 0 else 0\n",
    "            else:\n",
    "                starts[j][m] = max(stops[j][m - 1], stops[job_sequence[job_sequence.index(j) - 1]][m])\n",
    "            stops[j][m] = starts[j][m] + PROC[j][m]\n",
    "            idle = starts[j][m] - (stops[job_sequence[job_sequence.index(j) - 1]][m] if job_sequence.index(j) > 0 else 0)\n",
    "            row += f\"       {' ':4s} | Idle: {max(0, idle):4d} |\"\n",
    "        row += '\\n'\n",
    "        row += '|---------|'\n",
    "        for m in range(N_MACHINES):\n",
    "            row += f\"------------|------------|\"\n",
    "        row += '\\n'\n",
    "        row += '|         |'\n",
    "        for m in range(N_MACHINES):\n",
    "            row += f\"       {' ':4s} | Start:{starts[j][m]:4d} |\"\n",
    "        row += '\\n'\n",
    "        row += f'| Job: {j:2d} |'\n",
    "        for m in range(N_MACHINES):\n",
    "            wait = starts[j][m] - (stops[j][m - 1] if m > 0 else 0)\n",
    "            row += f\" Wait: {max(0, wait):4d} | Proc: {PROC[j][m]:4d} |\"\n",
    "        row += '\\n'\n",
    "        row += '|         |'\n",
    "        for m in range(N_MACHINES):\n",
    "            row += f\"       {' ':4s} | Stop: {stops[j][m]:4d} |\"\n",
    "        row += '\\n'\n",
    "    makespan_stochastic = max(stop for job in stops for stop in job)    \n",
    "    row += '|---------|'\n",
    "    for m in range(N_MACHINES):\n",
    "        row += f\"------------|------------|\"\n",
    "    row += '\\n'\n",
    "    row += f' Makespan Value for Stochastic: {makespan_stochastic:4d}'\n",
    "    return row\n",
    "\n",
    "PROC = generateData(2821)\n",
    "job_sequence, runtime_stochastic = stochastic_search(PROC)\n",
    "print(\"Stochastic Search Schedule----\")\n",
    "print(\"Stochastic Job Sequence:\", job_sequence)\n",
    "print(print_job_schedule(PROC, job_sequence))\n",
    "print(f\"Stochastic Search Runtime: {runtime_stochastic:.6f} seconds\")\n"
   ]
  },
  {
   "cell_type": "code",
   "execution_count": 50,
   "id": "3a57b69a",
   "metadata": {},
   "outputs": [
    {
     "name": "stdout",
     "output_type": "stream",
     "text": [
      "Value of Stochastic makespan: 63\n",
      "Stochastic Job Sequence: [3, 1, 4, 0, 6, 5, 2]\n",
      "63\n"
     ]
    }
   ],
   "source": [
    "def print_job_schedule(PROC, job_sequence):\n",
    "    starts = [[0] * N_MACHINES for _ in range(N_JOBS)]\n",
    "    stops = [[0] * N_MACHINES for _ in range(N_JOBS)]\n",
    "\n",
    "    row = \"|---------|\"\n",
    "    for m in range(N_MACHINES):\n",
    "        row += f\"------------|------------|\"\n",
    "    row += '\\n'\n",
    "    row += '|         |'\n",
    "    for m in range(N_MACHINES):\n",
    "        row += f\"            | Machine: {m:1d} |\"\n",
    "    row += '\\n'\n",
    "    for j in job_sequence:\n",
    "        row += '|---------|'\n",
    "        for m in range(N_MACHINES):\n",
    "            row += f\"------------|------------|\"\n",
    "        row += '\\n'\n",
    "        row += '|         |'\n",
    "        for m in range(N_MACHINES):\n",
    "            if m == 0:\n",
    "                starts[j][m] = stops[job_sequence[job_sequence.index(j) - 1]][m] if job_sequence.index(j) > 0 else 0\n",
    "            else:\n",
    "                starts[j][m] = max(stops[j][m - 1], stops[job_sequence[job_sequence.index(j) - 1]][m])\n",
    "            stops[j][m] = starts[j][m] + PROC[j][m]\n",
    "            idle = starts[j][m] - (stops[job_sequence[job_sequence.index(j) - 1]][m] if job_sequence.index(j) > 0 else 0)\n",
    "            row += f\"       {' ':4s} | Idle: {max(0, idle):4d} |\"\n",
    "        row += '\\n'\n",
    "        row += '|---------|'\n",
    "        for m in range(N_MACHINES):\n",
    "            row += f\"------------|------------|\"\n",
    "        row += '\\n'\n",
    "        row += '|         |'\n",
    "        for m in range(N_MACHINES):\n",
    "            row += f\"       {' ':4s} | Start:{starts[j][m]:4d} |\"\n",
    "        row += '\\n'\n",
    "        row += f'| Job: {j:2d} |'\n",
    "        for m in range(N_MACHINES):\n",
    "            wait = starts[j][m] - (stops[j][m - 1] if m > 0 else 0)\n",
    "            row += f\" Wait: {max(0, wait):4d} | Proc: {PROC[j][m]:4d} |\"\n",
    "        row += '\\n'\n",
    "        row += '|         |'\n",
    "        for m in range(N_MACHINES):\n",
    "            row += f\"       {' ':4s} | Stop: {stops[j][m]:4d} |\"\n",
    "        row += '\\n'\n",
    "    makespan_stochastic = max(stop for job in stops for stop in job)  \n",
    "    row += '|---------|'\n",
    "    for m in range(N_MACHINES):\n",
    "        row += f\"------------|------------|\"\n",
    "    row += '\\n'\n",
    "    row += f' Makespan: {makespan_stochastic:4d}'\n",
    "    \n",
    "    return makespan_stochastic\n",
    "\n",
    "PROC = generateData(2821)\n",
    "makespan_stochastic_value=print_job_schedule(PROC,job_sequence)\n",
    "job_sequence = stochastic_search(PROC)\n",
    "print(\"Value of Stochastic makespan:\",makespan_stochastic_value)\n",
    "print(\"Stochastic Job Sequence:\", job_sequence)\n",
    "print(print_job_schedule(PROC, job_sequence))\n"
   ]
  },
  {
   "cell_type": "markdown",
   "id": "305bda48",
   "metadata": {},
   "source": [
    "## showing makespan for stochastic"
   ]
  },
  {
   "cell_type": "code",
   "execution_count": 51,
   "id": "2b0cb206",
   "metadata": {},
   "outputs": [
    {
     "name": "stdout",
     "output_type": "stream",
     "text": [
      "Makespan value for Stochastic: 63\n"
     ]
    }
   ],
   "source": [
    "print(\"Makespan value for Stochastic:\",makespan_stochastic_value)"
   ]
  },
  {
   "cell_type": "markdown",
   "id": "88ad7a41",
   "metadata": {},
   "source": [
    "## Relative accuracy for Greedy"
   ]
  },
  {
   "cell_type": "code",
   "execution_count": 48,
   "id": "7cd257a2",
   "metadata": {},
   "outputs": [
    {
     "name": "stdout",
     "output_type": "stream",
     "text": [
      "Greedy Relative Accuracy: 81.4814814814815 %\n"
     ]
    }
   ],
   "source": [
    "def calculate_relative_accuracy(makespan_greedy_value, makespan): \n",
    "    relative_accuracy = (1 - (makespan_greedy_value - makespan) / makespan) * 100 \n",
    "    return relative_accuracy \n",
    "\n",
    "relative_accuracy = calculate_relative_accuracy(makespan_greedy_value, makespan) \n",
    "print(\"Greedy Relative Accuracy:\", relative_accuracy, \"%\")\n"
   ]
  },
  {
   "cell_type": "markdown",
   "id": "11bb2f27",
   "metadata": {},
   "source": [
    "## Relative accuracy for Stochastic"
   ]
  },
  {
   "cell_type": "code",
   "execution_count": 49,
   "id": "1508c6a2",
   "metadata": {},
   "outputs": [
    {
     "name": "stdout",
     "output_type": "stream",
     "text": [
      "Stochastic Relative Accuracy: 83.33333333333334 %\n"
     ]
    }
   ],
   "source": [
    "def calculate_relative_accuracy_stochastic(makespan_stochastic_value, makespan): \n",
    "    relative_accuracy_stochastic = (1 - (makespan_stochastic_value - makespan) / makespan) * 100 \n",
    "    return relative_accuracy_stochastic \n",
    "\n",
    "relative_accuracy_stochastic = calculate_relative_accuracy_stochastic(makespan_stochastic_value, makespan) \n",
    "print(\"Stochastic Relative Accuracy:\", relative_accuracy_stochastic, \"%\")\n"
   ]
  },
  {
   "cell_type": "markdown",
   "id": "81dee5b9",
   "metadata": {},
   "source": [
    "# ------------------------------------------------------------------------------------------------------------"
   ]
  },
  {
   "cell_type": "markdown",
   "id": "bf098902",
   "metadata": {},
   "source": [
    "## ----------------------------------- END ------------------------------------------------------------------------------"
   ]
  }
 ],
 "metadata": {
  "kernelspec": {
   "display_name": "Python 3 (ipykernel)",
   "language": "python",
   "name": "python3"
  },
  "language_info": {
   "codemirror_mode": {
    "name": "ipython",
    "version": 3
   },
   "file_extension": ".py",
   "mimetype": "text/x-python",
   "name": "python",
   "nbconvert_exporter": "python",
   "pygments_lexer": "ipython3",
   "version": "3.11.5"
  }
 },
 "nbformat": 4,
 "nbformat_minor": 5
}
